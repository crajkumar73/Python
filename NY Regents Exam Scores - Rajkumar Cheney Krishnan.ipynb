{
 "cells": [
  {
   "cell_type": "code",
   "execution_count": 9,
   "metadata": {},
   "outputs": [],
   "source": [
    "import pandas as pd\n",
    "import numpy as np\n",
    "import seaborn as sns\n",
    "import matplotlib.pyplot as plt\n",
    "%matplotlib inline\n"
   ]
  },
  {
   "cell_type": "code",
   "execution_count": 10,
   "metadata": {},
   "outputs": [
    {
     "data": {
      "text/html": [
       "<div>\n",
       "<style scoped>\n",
       "    .dataframe tbody tr th:only-of-type {\n",
       "        vertical-align: middle;\n",
       "    }\n",
       "\n",
       "    .dataframe tbody tr th {\n",
       "        vertical-align: top;\n",
       "    }\n",
       "\n",
       "    .dataframe thead th {\n",
       "        text-align: right;\n",
       "    }\n",
       "</style>\n",
       "<table border=\"1\" class=\"dataframe\">\n",
       "  <thead>\n",
       "    <tr style=\"text-align: right;\">\n",
       "      <th></th>\n",
       "      <th>dbn</th>\n",
       "      <th>sname</th>\n",
       "      <th>level</th>\n",
       "      <th>regexam</th>\n",
       "      <th>Year</th>\n",
       "      <th>tested</th>\n",
       "      <th>mean</th>\n",
       "      <th>nb65</th>\n",
       "      <th>pb65</th>\n",
       "      <th>na65</th>\n",
       "      <th>pa65</th>\n",
       "      <th>na80</th>\n",
       "      <th>pa80</th>\n",
       "      <th>ncr</th>\n",
       "      <th>pcr</th>\n",
       "    </tr>\n",
       "  </thead>\n",
       "  <tbody>\n",
       "    <tr>\n",
       "      <th>0</th>\n",
       "      <td>01M034</td>\n",
       "      <td>P.S. 034 Franklin D. Roosevelt</td>\n",
       "      <td>K-8</td>\n",
       "      <td>Common Core Algebra</td>\n",
       "      <td>2017</td>\n",
       "      <td>4</td>\n",
       "      <td>s</td>\n",
       "      <td>s</td>\n",
       "      <td>s</td>\n",
       "      <td>s</td>\n",
       "      <td>s</td>\n",
       "      <td>s</td>\n",
       "      <td>s</td>\n",
       "      <td>na</td>\n",
       "      <td>na</td>\n",
       "    </tr>\n",
       "    <tr>\n",
       "      <th>1</th>\n",
       "      <td>01M034</td>\n",
       "      <td>P.S. 034 Franklin D. Roosevelt</td>\n",
       "      <td>K-8</td>\n",
       "      <td>Living Environment</td>\n",
       "      <td>2015</td>\n",
       "      <td>16</td>\n",
       "      <td>77.9</td>\n",
       "      <td>1</td>\n",
       "      <td>6.3</td>\n",
       "      <td>15</td>\n",
       "      <td>93.8</td>\n",
       "      <td>7</td>\n",
       "      <td>43.8</td>\n",
       "      <td>na</td>\n",
       "      <td>na</td>\n",
       "    </tr>\n",
       "    <tr>\n",
       "      <th>2</th>\n",
       "      <td>01M034</td>\n",
       "      <td>P.S. 034 Franklin D. Roosevelt</td>\n",
       "      <td>K-8</td>\n",
       "      <td>Living Environment</td>\n",
       "      <td>2016</td>\n",
       "      <td>9</td>\n",
       "      <td>74</td>\n",
       "      <td>1</td>\n",
       "      <td>11.1</td>\n",
       "      <td>8</td>\n",
       "      <td>88.9</td>\n",
       "      <td>2</td>\n",
       "      <td>22.2</td>\n",
       "      <td>na</td>\n",
       "      <td>na</td>\n",
       "    </tr>\n",
       "    <tr>\n",
       "      <th>3</th>\n",
       "      <td>01M140</td>\n",
       "      <td>P.S. 140 Nathan Straus</td>\n",
       "      <td>K-8</td>\n",
       "      <td>Common Core Algebra</td>\n",
       "      <td>2016</td>\n",
       "      <td>3</td>\n",
       "      <td>s</td>\n",
       "      <td>s</td>\n",
       "      <td>s</td>\n",
       "      <td>s</td>\n",
       "      <td>s</td>\n",
       "      <td>s</td>\n",
       "      <td>s</td>\n",
       "      <td>na</td>\n",
       "      <td>na</td>\n",
       "    </tr>\n",
       "    <tr>\n",
       "      <th>4</th>\n",
       "      <td>01M140</td>\n",
       "      <td>P.S. 140 Nathan Straus</td>\n",
       "      <td>K-8</td>\n",
       "      <td>Common Core Algebra</td>\n",
       "      <td>2017</td>\n",
       "      <td>2</td>\n",
       "      <td>s</td>\n",
       "      <td>s</td>\n",
       "      <td>s</td>\n",
       "      <td>s</td>\n",
       "      <td>s</td>\n",
       "      <td>s</td>\n",
       "      <td>s</td>\n",
       "      <td>na</td>\n",
       "      <td>na</td>\n",
       "    </tr>\n",
       "  </tbody>\n",
       "</table>\n",
       "</div>"
      ],
      "text/plain": [
       "      dbn                           sname level              regexam  Year  \\\n",
       "0  01M034  P.S. 034 Franklin D. Roosevelt   K-8  Common Core Algebra  2017   \n",
       "1  01M034  P.S. 034 Franklin D. Roosevelt   K-8   Living Environment  2015   \n",
       "2  01M034  P.S. 034 Franklin D. Roosevelt   K-8   Living Environment  2016   \n",
       "3  01M140          P.S. 140 Nathan Straus   K-8  Common Core Algebra  2016   \n",
       "4  01M140          P.S. 140 Nathan Straus   K-8  Common Core Algebra  2017   \n",
       "\n",
       "   tested  mean nb65  pb65 na65  pa65 na80  pa80 ncr pcr  \n",
       "0       4     s    s     s    s     s    s     s  na  na  \n",
       "1      16  77.9    1   6.3   15  93.8    7  43.8  na  na  \n",
       "2       9    74    1  11.1    8  88.9    2  22.2  na  na  \n",
       "3       3     s    s     s    s     s    s     s  na  na  \n",
       "4       2     s    s     s    s     s    s     s  na  na  "
      ]
     },
     "execution_count": 10,
     "metadata": {},
     "output_type": "execute_result"
    }
   ],
   "source": [
    "df = pd.read_csv('https://raw.githubusercontent.com/CunyLaguardiaDataAnalytics/datasets/master/2014-15_To_2016-17_School-_Level_NYC_Regents_Report_For_All_Variables.csv')\n",
    "df.head()\n",
    "newcolnames = {'School DBN':'dbn','School Name':'sname','School Level':'level','Regents Exam':'regexam',\n",
    "              'Total Tested':'tested' , 'Mean Score':'mean' , 'Number Scoring Below 65':'nb65' , \n",
    "               'Percent Scoring Below 65':'pb65',  'Number Scoring 65 or Above':'na65' , 'Percent Scoring 65 or Above':'pa65' , \n",
    "               'Number Scoring 80 or Above':'na80' , 'Percent Scoring 80 or Above':'pa80',\n",
    "                'Number Scoring CR':'ncr' , 'Percent Scoring CR':'pcr' }\n",
    "df.rename(columns=newcolnames, inplace=True)\n",
    "df.head()\n"
   ]
  },
  {
   "cell_type": "code",
   "execution_count": 11,
   "metadata": {},
   "outputs": [
    {
     "data": {
      "text/html": [
       "<div>\n",
       "<style scoped>\n",
       "    .dataframe tbody tr th:only-of-type {\n",
       "        vertical-align: middle;\n",
       "    }\n",
       "\n",
       "    .dataframe tbody tr th {\n",
       "        vertical-align: top;\n",
       "    }\n",
       "\n",
       "    .dataframe thead th {\n",
       "        text-align: right;\n",
       "    }\n",
       "</style>\n",
       "<table border=\"1\" class=\"dataframe\">\n",
       "  <thead>\n",
       "    <tr style=\"text-align: right;\">\n",
       "      <th></th>\n",
       "      <th>dbn</th>\n",
       "      <th>sname</th>\n",
       "      <th>level</th>\n",
       "      <th>regexam</th>\n",
       "      <th>Year</th>\n",
       "      <th>tested</th>\n",
       "      <th>mean</th>\n",
       "      <th>nb65</th>\n",
       "      <th>pb65</th>\n",
       "      <th>na65</th>\n",
       "      <th>pa65</th>\n",
       "      <th>na80</th>\n",
       "      <th>pa80</th>\n",
       "      <th>ncr</th>\n",
       "      <th>pcr</th>\n",
       "    </tr>\n",
       "  </thead>\n",
       "  <tbody>\n",
       "    <tr>\n",
       "      <th>count</th>\n",
       "      <td>212331</td>\n",
       "      <td>212331</td>\n",
       "      <td>212331</td>\n",
       "      <td>212321</td>\n",
       "      <td>212331.000000</td>\n",
       "      <td>212331.000000</td>\n",
       "      <td>212331</td>\n",
       "      <td>212331</td>\n",
       "      <td>212331</td>\n",
       "      <td>212331</td>\n",
       "      <td>212331</td>\n",
       "      <td>212331</td>\n",
       "      <td>212331</td>\n",
       "      <td>212331</td>\n",
       "      <td>212331</td>\n",
       "    </tr>\n",
       "    <tr>\n",
       "      <th>unique</th>\n",
       "      <td>1018</td>\n",
       "      <td>1012</td>\n",
       "      <td>6</td>\n",
       "      <td>14</td>\n",
       "      <td>NaN</td>\n",
       "      <td>NaN</td>\n",
       "      <td>748</td>\n",
       "      <td>446</td>\n",
       "      <td>992</td>\n",
       "      <td>945</td>\n",
       "      <td>992</td>\n",
       "      <td>744</td>\n",
       "      <td>1000</td>\n",
       "      <td>707</td>\n",
       "      <td>999</td>\n",
       "    </tr>\n",
       "    <tr>\n",
       "      <th>top</th>\n",
       "      <td>22K425</td>\n",
       "      <td>New Visions Charter High School for Advanced Math</td>\n",
       "      <td>High school</td>\n",
       "      <td>Common Core Algebra</td>\n",
       "      <td>NaN</td>\n",
       "      <td>NaN</td>\n",
       "      <td>s</td>\n",
       "      <td>s</td>\n",
       "      <td>s</td>\n",
       "      <td>s</td>\n",
       "      <td>s</td>\n",
       "      <td>s</td>\n",
       "      <td>s</td>\n",
       "      <td>na</td>\n",
       "      <td>na</td>\n",
       "    </tr>\n",
       "    <tr>\n",
       "      <th>freq</th>\n",
       "      <td>490</td>\n",
       "      <td>1337</td>\n",
       "      <td>151160</td>\n",
       "      <td>29254</td>\n",
       "      <td>NaN</td>\n",
       "      <td>NaN</td>\n",
       "      <td>75222</td>\n",
       "      <td>75222</td>\n",
       "      <td>75222</td>\n",
       "      <td>75222</td>\n",
       "      <td>75222</td>\n",
       "      <td>75222</td>\n",
       "      <td>75222</td>\n",
       "      <td>142680</td>\n",
       "      <td>142680</td>\n",
       "    </tr>\n",
       "    <tr>\n",
       "      <th>mean</th>\n",
       "      <td>NaN</td>\n",
       "      <td>NaN</td>\n",
       "      <td>NaN</td>\n",
       "      <td>NaN</td>\n",
       "      <td>2015.956069</td>\n",
       "      <td>49.364200</td>\n",
       "      <td>NaN</td>\n",
       "      <td>NaN</td>\n",
       "      <td>NaN</td>\n",
       "      <td>NaN</td>\n",
       "      <td>NaN</td>\n",
       "      <td>NaN</td>\n",
       "      <td>NaN</td>\n",
       "      <td>NaN</td>\n",
       "      <td>NaN</td>\n",
       "    </tr>\n",
       "    <tr>\n",
       "      <th>std</th>\n",
       "      <td>NaN</td>\n",
       "      <td>NaN</td>\n",
       "      <td>NaN</td>\n",
       "      <td>NaN</td>\n",
       "      <td>0.799726</td>\n",
       "      <td>93.023576</td>\n",
       "      <td>NaN</td>\n",
       "      <td>NaN</td>\n",
       "      <td>NaN</td>\n",
       "      <td>NaN</td>\n",
       "      <td>NaN</td>\n",
       "      <td>NaN</td>\n",
       "      <td>NaN</td>\n",
       "      <td>NaN</td>\n",
       "      <td>NaN</td>\n",
       "    </tr>\n",
       "    <tr>\n",
       "      <th>min</th>\n",
       "      <td>NaN</td>\n",
       "      <td>NaN</td>\n",
       "      <td>NaN</td>\n",
       "      <td>NaN</td>\n",
       "      <td>2015.000000</td>\n",
       "      <td>1.000000</td>\n",
       "      <td>NaN</td>\n",
       "      <td>NaN</td>\n",
       "      <td>NaN</td>\n",
       "      <td>NaN</td>\n",
       "      <td>NaN</td>\n",
       "      <td>NaN</td>\n",
       "      <td>NaN</td>\n",
       "      <td>NaN</td>\n",
       "      <td>NaN</td>\n",
       "    </tr>\n",
       "    <tr>\n",
       "      <th>25%</th>\n",
       "      <td>NaN</td>\n",
       "      <td>NaN</td>\n",
       "      <td>NaN</td>\n",
       "      <td>NaN</td>\n",
       "      <td>2015.000000</td>\n",
       "      <td>5.000000</td>\n",
       "      <td>NaN</td>\n",
       "      <td>NaN</td>\n",
       "      <td>NaN</td>\n",
       "      <td>NaN</td>\n",
       "      <td>NaN</td>\n",
       "      <td>NaN</td>\n",
       "      <td>NaN</td>\n",
       "      <td>NaN</td>\n",
       "      <td>NaN</td>\n",
       "    </tr>\n",
       "    <tr>\n",
       "      <th>50%</th>\n",
       "      <td>NaN</td>\n",
       "      <td>NaN</td>\n",
       "      <td>NaN</td>\n",
       "      <td>NaN</td>\n",
       "      <td>2016.000000</td>\n",
       "      <td>20.000000</td>\n",
       "      <td>NaN</td>\n",
       "      <td>NaN</td>\n",
       "      <td>NaN</td>\n",
       "      <td>NaN</td>\n",
       "      <td>NaN</td>\n",
       "      <td>NaN</td>\n",
       "      <td>NaN</td>\n",
       "      <td>NaN</td>\n",
       "      <td>NaN</td>\n",
       "    </tr>\n",
       "    <tr>\n",
       "      <th>75%</th>\n",
       "      <td>NaN</td>\n",
       "      <td>NaN</td>\n",
       "      <td>NaN</td>\n",
       "      <td>NaN</td>\n",
       "      <td>2017.000000</td>\n",
       "      <td>57.000000</td>\n",
       "      <td>NaN</td>\n",
       "      <td>NaN</td>\n",
       "      <td>NaN</td>\n",
       "      <td>NaN</td>\n",
       "      <td>NaN</td>\n",
       "      <td>NaN</td>\n",
       "      <td>NaN</td>\n",
       "      <td>NaN</td>\n",
       "      <td>NaN</td>\n",
       "    </tr>\n",
       "    <tr>\n",
       "      <th>max</th>\n",
       "      <td>NaN</td>\n",
       "      <td>NaN</td>\n",
       "      <td>NaN</td>\n",
       "      <td>NaN</td>\n",
       "      <td>2017.000000</td>\n",
       "      <td>1729.000000</td>\n",
       "      <td>NaN</td>\n",
       "      <td>NaN</td>\n",
       "      <td>NaN</td>\n",
       "      <td>NaN</td>\n",
       "      <td>NaN</td>\n",
       "      <td>NaN</td>\n",
       "      <td>NaN</td>\n",
       "      <td>NaN</td>\n",
       "      <td>NaN</td>\n",
       "    </tr>\n",
       "  </tbody>\n",
       "</table>\n",
       "</div>"
      ],
      "text/plain": [
       "           dbn                                              sname  \\\n",
       "count   212331                                             212331   \n",
       "unique    1018                                               1012   \n",
       "top     22K425  New Visions Charter High School for Advanced Math   \n",
       "freq       490                                               1337   \n",
       "mean       NaN                                                NaN   \n",
       "std        NaN                                                NaN   \n",
       "min        NaN                                                NaN   \n",
       "25%        NaN                                                NaN   \n",
       "50%        NaN                                                NaN   \n",
       "75%        NaN                                                NaN   \n",
       "max        NaN                                                NaN   \n",
       "\n",
       "              level              regexam           Year         tested  \\\n",
       "count        212331               212321  212331.000000  212331.000000   \n",
       "unique            6                   14            NaN            NaN   \n",
       "top     High school  Common Core Algebra            NaN            NaN   \n",
       "freq         151160                29254            NaN            NaN   \n",
       "mean            NaN                  NaN    2015.956069      49.364200   \n",
       "std             NaN                  NaN       0.799726      93.023576   \n",
       "min             NaN                  NaN    2015.000000       1.000000   \n",
       "25%             NaN                  NaN    2015.000000       5.000000   \n",
       "50%             NaN                  NaN    2016.000000      20.000000   \n",
       "75%             NaN                  NaN    2017.000000      57.000000   \n",
       "max             NaN                  NaN    2017.000000    1729.000000   \n",
       "\n",
       "          mean    nb65    pb65    na65    pa65    na80    pa80     ncr     pcr  \n",
       "count   212331  212331  212331  212331  212331  212331  212331  212331  212331  \n",
       "unique     748     446     992     945     992     744    1000     707     999  \n",
       "top          s       s       s       s       s       s       s      na      na  \n",
       "freq     75222   75222   75222   75222   75222   75222   75222  142680  142680  \n",
       "mean       NaN     NaN     NaN     NaN     NaN     NaN     NaN     NaN     NaN  \n",
       "std        NaN     NaN     NaN     NaN     NaN     NaN     NaN     NaN     NaN  \n",
       "min        NaN     NaN     NaN     NaN     NaN     NaN     NaN     NaN     NaN  \n",
       "25%        NaN     NaN     NaN     NaN     NaN     NaN     NaN     NaN     NaN  \n",
       "50%        NaN     NaN     NaN     NaN     NaN     NaN     NaN     NaN     NaN  \n",
       "75%        NaN     NaN     NaN     NaN     NaN     NaN     NaN     NaN     NaN  \n",
       "max        NaN     NaN     NaN     NaN     NaN     NaN     NaN     NaN     NaN  "
      ]
     },
     "execution_count": 11,
     "metadata": {},
     "output_type": "execute_result"
    }
   ],
   "source": [
    "df.describe(include='all')"
   ]
  },
  {
   "cell_type": "code",
   "execution_count": 12,
   "metadata": {},
   "outputs": [
    {
     "data": {
      "text/html": [
       "<div>\n",
       "<style scoped>\n",
       "    .dataframe tbody tr th:only-of-type {\n",
       "        vertical-align: middle;\n",
       "    }\n",
       "\n",
       "    .dataframe tbody tr th {\n",
       "        vertical-align: top;\n",
       "    }\n",
       "\n",
       "    .dataframe thead th {\n",
       "        text-align: right;\n",
       "    }\n",
       "</style>\n",
       "<table border=\"1\" class=\"dataframe\">\n",
       "  <thead>\n",
       "    <tr style=\"text-align: right;\">\n",
       "      <th></th>\n",
       "      <th>dbn</th>\n",
       "      <th>sname</th>\n",
       "      <th>level</th>\n",
       "      <th>regexam</th>\n",
       "      <th>Year</th>\n",
       "      <th>tested</th>\n",
       "      <th>mean</th>\n",
       "      <th>nb65</th>\n",
       "      <th>pb65</th>\n",
       "      <th>na65</th>\n",
       "      <th>pa65</th>\n",
       "      <th>na80</th>\n",
       "      <th>pa80</th>\n",
       "      <th>ncr</th>\n",
       "      <th>pcr</th>\n",
       "      <th>district</th>\n",
       "      <th>borough</th>\n",
       "      <th>snumber</th>\n",
       "    </tr>\n",
       "  </thead>\n",
       "  <tbody>\n",
       "    <tr>\n",
       "      <th>0</th>\n",
       "      <td>01M034</td>\n",
       "      <td>P.S. 034 Franklin D. Roosevelt</td>\n",
       "      <td>K-8</td>\n",
       "      <td>Common Core Algebra</td>\n",
       "      <td>2017</td>\n",
       "      <td>4</td>\n",
       "      <td>s</td>\n",
       "      <td>s</td>\n",
       "      <td>s</td>\n",
       "      <td>s</td>\n",
       "      <td>s</td>\n",
       "      <td>s</td>\n",
       "      <td>s</td>\n",
       "      <td>na</td>\n",
       "      <td>na</td>\n",
       "      <td>01</td>\n",
       "      <td>M</td>\n",
       "      <td>034</td>\n",
       "    </tr>\n",
       "    <tr>\n",
       "      <th>1</th>\n",
       "      <td>01M034</td>\n",
       "      <td>P.S. 034 Franklin D. Roosevelt</td>\n",
       "      <td>K-8</td>\n",
       "      <td>Living Environment</td>\n",
       "      <td>2015</td>\n",
       "      <td>16</td>\n",
       "      <td>77.9</td>\n",
       "      <td>1</td>\n",
       "      <td>6.3</td>\n",
       "      <td>15</td>\n",
       "      <td>93.8</td>\n",
       "      <td>7</td>\n",
       "      <td>43.8</td>\n",
       "      <td>na</td>\n",
       "      <td>na</td>\n",
       "      <td>01</td>\n",
       "      <td>M</td>\n",
       "      <td>034</td>\n",
       "    </tr>\n",
       "    <tr>\n",
       "      <th>2</th>\n",
       "      <td>01M034</td>\n",
       "      <td>P.S. 034 Franklin D. Roosevelt</td>\n",
       "      <td>K-8</td>\n",
       "      <td>Living Environment</td>\n",
       "      <td>2016</td>\n",
       "      <td>9</td>\n",
       "      <td>74</td>\n",
       "      <td>1</td>\n",
       "      <td>11.1</td>\n",
       "      <td>8</td>\n",
       "      <td>88.9</td>\n",
       "      <td>2</td>\n",
       "      <td>22.2</td>\n",
       "      <td>na</td>\n",
       "      <td>na</td>\n",
       "      <td>01</td>\n",
       "      <td>M</td>\n",
       "      <td>034</td>\n",
       "    </tr>\n",
       "    <tr>\n",
       "      <th>3</th>\n",
       "      <td>01M140</td>\n",
       "      <td>P.S. 140 Nathan Straus</td>\n",
       "      <td>K-8</td>\n",
       "      <td>Common Core Algebra</td>\n",
       "      <td>2016</td>\n",
       "      <td>3</td>\n",
       "      <td>s</td>\n",
       "      <td>s</td>\n",
       "      <td>s</td>\n",
       "      <td>s</td>\n",
       "      <td>s</td>\n",
       "      <td>s</td>\n",
       "      <td>s</td>\n",
       "      <td>na</td>\n",
       "      <td>na</td>\n",
       "      <td>01</td>\n",
       "      <td>M</td>\n",
       "      <td>140</td>\n",
       "    </tr>\n",
       "    <tr>\n",
       "      <th>4</th>\n",
       "      <td>01M140</td>\n",
       "      <td>P.S. 140 Nathan Straus</td>\n",
       "      <td>K-8</td>\n",
       "      <td>Common Core Algebra</td>\n",
       "      <td>2017</td>\n",
       "      <td>2</td>\n",
       "      <td>s</td>\n",
       "      <td>s</td>\n",
       "      <td>s</td>\n",
       "      <td>s</td>\n",
       "      <td>s</td>\n",
       "      <td>s</td>\n",
       "      <td>s</td>\n",
       "      <td>na</td>\n",
       "      <td>na</td>\n",
       "      <td>01</td>\n",
       "      <td>M</td>\n",
       "      <td>140</td>\n",
       "    </tr>\n",
       "  </tbody>\n",
       "</table>\n",
       "</div>"
      ],
      "text/plain": [
       "      dbn                           sname level              regexam  Year  \\\n",
       "0  01M034  P.S. 034 Franklin D. Roosevelt   K-8  Common Core Algebra  2017   \n",
       "1  01M034  P.S. 034 Franklin D. Roosevelt   K-8   Living Environment  2015   \n",
       "2  01M034  P.S. 034 Franklin D. Roosevelt   K-8   Living Environment  2016   \n",
       "3  01M140          P.S. 140 Nathan Straus   K-8  Common Core Algebra  2016   \n",
       "4  01M140          P.S. 140 Nathan Straus   K-8  Common Core Algebra  2017   \n",
       "\n",
       "   tested  mean nb65  pb65 na65  pa65 na80  pa80 ncr pcr district borough  \\\n",
       "0       4     s    s     s    s     s    s     s  na  na       01       M   \n",
       "1      16  77.9    1   6.3   15  93.8    7  43.8  na  na       01       M   \n",
       "2       9    74    1  11.1    8  88.9    2  22.2  na  na       01       M   \n",
       "3       3     s    s     s    s     s    s     s  na  na       01       M   \n",
       "4       2     s    s     s    s     s    s     s  na  na       01       M   \n",
       "\n",
       "  snumber  \n",
       "0     034  \n",
       "1     034  \n",
       "2     034  \n",
       "3     140  \n",
       "4     140  "
      ]
     },
     "execution_count": 12,
     "metadata": {},
     "output_type": "execute_result"
    }
   ],
   "source": [
    "df['district']=df['dbn'].str.slice(stop=2)\n",
    "df['borough']=df['dbn'].str.slice(start=2,stop=3)\n",
    "df['snumber']=df['dbn'].str.slice(start=3,stop=6)\n",
    "df.head()"
   ]
  },
  {
   "cell_type": "code",
   "execution_count": 13,
   "metadata": {},
   "outputs": [
    {
     "data": {
      "text/plain": [
       "dbn          0\n",
       "sname        0\n",
       "level        0\n",
       "regexam     10\n",
       "Year         0\n",
       "tested       0\n",
       "mean         0\n",
       "nb65         0\n",
       "pb65         0\n",
       "na65         0\n",
       "pa65         0\n",
       "na80         0\n",
       "pa80         0\n",
       "ncr          0\n",
       "pcr          0\n",
       "district     0\n",
       "borough      0\n",
       "snumber      0\n",
       "dtype: int64"
      ]
     },
     "execution_count": 13,
     "metadata": {},
     "output_type": "execute_result"
    }
   ],
   "source": [
    "df.isnull().sum()\n"
   ]
  },
  {
   "cell_type": "code",
   "execution_count": 14,
   "metadata": {},
   "outputs": [
    {
     "data": {
      "text/plain": [
       "dbn          object\n",
       "sname        object\n",
       "level        object\n",
       "regexam      object\n",
       "Year          int64\n",
       "tested        int64\n",
       "mean        float64\n",
       "nb65          int32\n",
       "pb65          int32\n",
       "na65          int32\n",
       "pa65          int32\n",
       "na80          int32\n",
       "pa80          int32\n",
       "ncr           int32\n",
       "pcr           int32\n",
       "district     object\n",
       "borough      object\n",
       "snumber      object\n",
       "dtype: object"
      ]
     },
     "execution_count": 14,
     "metadata": {},
     "output_type": "execute_result"
    }
   ],
   "source": [
    "df['mean']=pd.to_numeric(df['mean'], errors='coerce')\n",
    "df['nb65']=pd.to_numeric(df['nb65'], errors='coerce')\n",
    "df['pb65']=pd.to_numeric(df['pb65'], errors='coerce')\n",
    "df['na65']=pd.to_numeric(df['na65'], errors='coerce')\n",
    "df['pa65']=pd.to_numeric(df['pa65'], errors='coerce')\n",
    "df['na80']=pd.to_numeric(df['na80'], errors='coerce')\n",
    "df['pa80']=pd.to_numeric(df['pa80'], errors='coerce')\n",
    "df['ncr']=pd.to_numeric(df['ncr'], errors='coerce')\n",
    "df['pcr']=pd.to_numeric(df['pcr'], errors='coerce')\n",
    "df.dtypes\n",
    "df = df.dropna()\n",
    "df['nb65'] = df['nb65'].astype(int)\n",
    "df['pb65'] = df['pb65'].astype(int)\n",
    "df['na65'] = df['na65'].astype(int)\n",
    "df['pa65'] = df['pa65'].astype(int)\n",
    "df['na80'] = df['na80'].astype(int)\n",
    "df['pa80'] = df['pa80'].astype(int)\n",
    "df['ncr'] = df['ncr'].astype(int)\n",
    "df['pcr'] = df['pcr'].astype(int)\n",
    "\n",
    "\n",
    "df.head(1000)\n",
    "df.dtypes"
   ]
  },
  {
   "cell_type": "code",
   "execution_count": null,
   "metadata": {},
   "outputs": [],
   "source": []
  },
  {
   "cell_type": "code",
   "execution_count": 15,
   "metadata": {},
   "outputs": [
    {
     "data": {
      "text/plain": [
       "array([2015, 2016, 2017], dtype=int64)"
      ]
     },
     "execution_count": 15,
     "metadata": {},
     "output_type": "execute_result"
    }
   ],
   "source": [
    "df['level'].unique()\n",
    "df['regexam'].unique()\n",
    "df['Year'].unique()"
   ]
  },
  {
   "cell_type": "code",
   "execution_count": 16,
   "metadata": {},
   "outputs": [
    {
     "data": {
      "text/plain": [
       "<bound method NDFrame.head of        borough  mean\n",
       "8            M  78.4\n",
       "9            M  79.0\n",
       "10           M  84.8\n",
       "12           M  62.9\n",
       "13           M  69.0\n",
       "...        ...   ...\n",
       "212311       X  82.6\n",
       "212320       X  87.9\n",
       "212321       X  87.2\n",
       "212322       X  87.0\n",
       "212323       X  88.3\n",
       "\n",
       "[69643 rows x 2 columns]>"
      ]
     },
     "execution_count": 16,
     "metadata": {},
     "output_type": "execute_result"
    }
   ],
   "source": [
    "df2 = df[['borough','mean']]\n",
    "df2.head"
   ]
  },
  {
   "cell_type": "code",
   "execution_count": 17,
   "metadata": {},
   "outputs": [
    {
     "data": {
      "text/plain": [
       "<seaborn.axisgrid.FacetGrid at 0x18495266ec8>"
      ]
     },
     "execution_count": 17,
     "metadata": {},
     "output_type": "execute_result"
    },
    {
     "data": {
      "image/png": "[encoded data removed]",
      "text/plain": [
       "<Figure size 360x360 with 1 Axes>"
      ]
     },
     "metadata": {
      "needs_background": "light"
     },
     "output_type": "display_data"
    }
   ],
   "source": [
    "sns.catplot(x=\"borough\", y=\"mean\", kind=\"box\",  data=df)"
   ]
  },
  {
   "cell_type": "code",
   "execution_count": 18,
   "metadata": {},
   "outputs": [
    {
     "data": {
      "text/plain": [
       "<seaborn.axisgrid.FacetGrid at 0x184a0f9dc08>"
      ]
     },
     "execution_count": 18,
     "metadata": {},
     "output_type": "execute_result"
    },
    {
     "data": {
      "image/png": "[encoded data removed]",
      "text/plain": [
       "<Figure size 864x288 with 1 Axes>"
      ]
     },
     "metadata": {
      "needs_background": "light"
     },
     "output_type": "display_data"
    }
   ],
   "source": [
    "sns.catplot(x=\"district\", y=\"mean\", kind=\"box\", data=df ,height=4, aspect=3)"
   ]
  },
  {
   "cell_type": "code",
   "execution_count": 19,
   "metadata": {},
   "outputs": [
    {
     "data": {
      "text/plain": [
       "<seaborn.axisgrid.FacetGrid at 0x184a0eea948>"
      ]
     },
     "execution_count": 19,
     "metadata": {},
     "output_type": "execute_result"
    },
    {
     "data": {
      "image/png": "[encoded data removed]",
      "text/plain": [
       "<Figure size 360x360 with 1 Axes>"
      ]
     },
     "metadata": {
      "needs_background": "light"
     },
     "output_type": "display_data"
    }
   ],
   "source": [
    "sns.catplot(x=\"borough\", y=\"pcr\", kind=\"bar\",  data=df)"
   ]
  },
  {
   "cell_type": "code",
   "execution_count": 51,
   "metadata": {},
   "outputs": [
    {
     "data": {
      "text/plain": [
       "<seaborn.axisgrid.FacetGrid at 0x281e6bff2c8>"
      ]
     },
     "execution_count": 51,
     "metadata": {},
     "output_type": "execute_result"
    },
    {
     "data": {
      "text/plain": [
       "<Figure size 43200x43200 with 0 Axes>"
      ]
     },
     "metadata": {},
     "output_type": "display_data"
    },
    {
     "data": {
      "image/png": "[encoded data removed]",
      "text/plain": [
       "<Figure size 864x288 with 1 Axes>"
      ]
     },
     "metadata": {
      "needs_background": "light"
     },
     "output_type": "display_data"
    }
   ],
   "source": [
    "plt.figure(figsize=(600, 600))\n",
    "sns.catplot(x=\"district\", y=\"pcr\", kind=\"bar\",  data=df,height=4, aspect=3)\n"
   ]
  },
  {
   "cell_type": "code",
   "execution_count": 40,
   "metadata": {},
   "outputs": [
    {
     "data": {
      "text/plain": [
       "<seaborn.axisgrid.FacetGrid at 0x281e701ff08>"
      ]
     },
     "execution_count": 40,
     "metadata": {},
     "output_type": "execute_result"
    },
    {
     "data": {
      "image/png": "[encoded data removed]",
      "text/plain": [
       "<Figure size 360x360 with 1 Axes>"
      ]
     },
     "metadata": {
      "needs_background": "light"
     },
     "output_type": "display_data"
    }
   ],
   "source": [
    "sns.catplot(x=\"Year\", y=\"pcr\", kind=\"bar\",  data=df)"
   ]
  },
  {
   "cell_type": "code",
   "execution_count": 20,
   "metadata": {},
   "outputs": [
    {
     "data": {
      "text/plain": [
       "<seaborn.axisgrid.FacetGrid at 0x184a0eb3048>"
      ]
     },
     "execution_count": 20,
     "metadata": {},
     "output_type": "execute_result"
    },
    {
     "data": {
      "image/png": "[encoded data removed]",
      "text/plain": [
       "<Figure size 360x360 with 1 Axes>"
      ]
     },
     "metadata": {
      "needs_background": "light"
     },
     "output_type": "display_data"
    }
   ],
   "source": [
    "sns.catplot(x=\"Year\", y=\"pa80\", kind=\"bar\",  data=df)"
   ]
  },
  {
   "cell_type": "code",
   "execution_count": null,
   "metadata": {},
   "outputs": [],
   "source": []
  },
  {
   "cell_type": "code",
   "execution_count": null,
   "metadata": {},
   "outputs": [],
   "source": []
  }
 ],
 "metadata": {
  "kernelspec": {
   "display_name": "Python 3",
   "language": "python",
   "name": "python3"
  },
  "language_info": {
   "codemirror_mode": {
    "name": "ipython",
    "version": 3
   },
   "file_extension": ".py",
   "mimetype": "text/x-python",
   "name": "python",
   "nbconvert_exporter": "python",
   "pygments_lexer": "ipython3",
   "version": "3.7.6"
  }
 },
 "nbformat": 4,
 "nbformat_minor": 4
}
